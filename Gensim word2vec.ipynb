{
 "cells": [
  {
   "cell_type": "markdown",
   "id": "945119f6",
   "metadata": {},
   "source": [
    "# Importing Libraries"
   ]
  },
  {
   "cell_type": "code",
   "execution_count": 27,
   "id": "b4175268",
   "metadata": {},
   "outputs": [],
   "source": [
    "import gensim\n",
    "import pandas as pd"
   ]
  },
  {
   "cell_type": "markdown",
   "id": "a5f858a8",
   "metadata": {},
   "source": [
    "# Dataset\n",
    "The Yelp dataset is a subset of their businesses, reviews, and user data for use in personal, educational, and academic purposes. The dataset contains 6,990,280 reviews."
   ]
  },
  {
   "cell_type": "code",
   "execution_count": 28,
   "id": "cf5160b6",
   "metadata": {},
   "outputs": [
    {
     "name": "stdout",
     "output_type": "stream",
     "text": [
      "Wall time: 744 ms\n"
     ]
    }
   ],
   "source": [
    " %time yelp_reviews = pd.read_json(\"G:\\yelp_academic_dataset_review.json\", encoding = 'ISO-8859-1', lines=True, nrows=100000) "
   ]
  },
  {
   "cell_type": "code",
   "execution_count": 29,
   "id": "d5c7345a",
   "metadata": {},
   "outputs": [
    {
     "data": {
      "text/html": [
       "<div>\n",
       "<style scoped>\n",
       "    .dataframe tbody tr th:only-of-type {\n",
       "        vertical-align: middle;\n",
       "    }\n",
       "\n",
       "    .dataframe tbody tr th {\n",
       "        vertical-align: top;\n",
       "    }\n",
       "\n",
       "    .dataframe thead th {\n",
       "        text-align: right;\n",
       "    }\n",
       "</style>\n",
       "<table border=\"1\" class=\"dataframe\">\n",
       "  <thead>\n",
       "    <tr style=\"text-align: right;\">\n",
       "      <th></th>\n",
       "      <th>review_id</th>\n",
       "      <th>user_id</th>\n",
       "      <th>business_id</th>\n",
       "      <th>stars</th>\n",
       "      <th>useful</th>\n",
       "      <th>funny</th>\n",
       "      <th>cool</th>\n",
       "      <th>text</th>\n",
       "      <th>date</th>\n",
       "    </tr>\n",
       "  </thead>\n",
       "  <tbody>\n",
       "    <tr>\n",
       "      <th>0</th>\n",
       "      <td>KU_O5udG6zpxOg-VcAEodg</td>\n",
       "      <td>mh_-eMZ6K5RLWhZyISBhwA</td>\n",
       "      <td>XQfwVwDr-v0ZS3_CbbE5Xw</td>\n",
       "      <td>3</td>\n",
       "      <td>0</td>\n",
       "      <td>0</td>\n",
       "      <td>0</td>\n",
       "      <td>If you decide to eat here, just be aware it is...</td>\n",
       "      <td>2018-07-07 22:09:11</td>\n",
       "    </tr>\n",
       "    <tr>\n",
       "      <th>1</th>\n",
       "      <td>BiTunyQ73aT9WBnpR9DZGw</td>\n",
       "      <td>OyoGAe7OKpv6SyGZT5g77Q</td>\n",
       "      <td>7ATYjTIgM3jUlt4UM3IypQ</td>\n",
       "      <td>5</td>\n",
       "      <td>1</td>\n",
       "      <td>0</td>\n",
       "      <td>1</td>\n",
       "      <td>I've taken a lot of spin classes over the year...</td>\n",
       "      <td>2012-01-03 15:28:18</td>\n",
       "    </tr>\n",
       "    <tr>\n",
       "      <th>2</th>\n",
       "      <td>saUsX_uimxRlCVr67Z4Jig</td>\n",
       "      <td>8g_iMtfSiwikVnbP2etR0A</td>\n",
       "      <td>YjUWPpI6HXG530lwP-fb2A</td>\n",
       "      <td>3</td>\n",
       "      <td>0</td>\n",
       "      <td>0</td>\n",
       "      <td>0</td>\n",
       "      <td>Family diner. Had the buffet. Eclectic assortm...</td>\n",
       "      <td>2014-02-05 20:30:30</td>\n",
       "    </tr>\n",
       "    <tr>\n",
       "      <th>3</th>\n",
       "      <td>AqPFMleE6RsU23_auESxiA</td>\n",
       "      <td>_7bHUi9Uuf5__HHc_Q8guQ</td>\n",
       "      <td>kxX2SOes4o-D3ZQBkiMRfA</td>\n",
       "      <td>5</td>\n",
       "      <td>1</td>\n",
       "      <td>0</td>\n",
       "      <td>1</td>\n",
       "      <td>Wow!  Yummy, different,  delicious.   Our favo...</td>\n",
       "      <td>2015-01-04 00:01:03</td>\n",
       "    </tr>\n",
       "    <tr>\n",
       "      <th>4</th>\n",
       "      <td>Sx8TMOWLNuJBWer-0pcmoA</td>\n",
       "      <td>bcjbaE6dDog4jkNY91ncLQ</td>\n",
       "      <td>e4Vwtrqf-wpJfwesgvdgxQ</td>\n",
       "      <td>4</td>\n",
       "      <td>1</td>\n",
       "      <td>0</td>\n",
       "      <td>1</td>\n",
       "      <td>Cute interior and owner (?) gave us tour of up...</td>\n",
       "      <td>2017-01-14 20:54:15</td>\n",
       "    </tr>\n",
       "  </tbody>\n",
       "</table>\n",
       "</div>"
      ],
      "text/plain": [
       "                review_id                 user_id             business_id  \\\n",
       "0  KU_O5udG6zpxOg-VcAEodg  mh_-eMZ6K5RLWhZyISBhwA  XQfwVwDr-v0ZS3_CbbE5Xw   \n",
       "1  BiTunyQ73aT9WBnpR9DZGw  OyoGAe7OKpv6SyGZT5g77Q  7ATYjTIgM3jUlt4UM3IypQ   \n",
       "2  saUsX_uimxRlCVr67Z4Jig  8g_iMtfSiwikVnbP2etR0A  YjUWPpI6HXG530lwP-fb2A   \n",
       "3  AqPFMleE6RsU23_auESxiA  _7bHUi9Uuf5__HHc_Q8guQ  kxX2SOes4o-D3ZQBkiMRfA   \n",
       "4  Sx8TMOWLNuJBWer-0pcmoA  bcjbaE6dDog4jkNY91ncLQ  e4Vwtrqf-wpJfwesgvdgxQ   \n",
       "\n",
       "   stars  useful  funny  cool  \\\n",
       "0      3       0      0     0   \n",
       "1      5       1      0     1   \n",
       "2      3       0      0     0   \n",
       "3      5       1      0     1   \n",
       "4      4       1      0     1   \n",
       "\n",
       "                                                text                date  \n",
       "0  If you decide to eat here, just be aware it is... 2018-07-07 22:09:11  \n",
       "1  I've taken a lot of spin classes over the year... 2012-01-03 15:28:18  \n",
       "2  Family diner. Had the buffet. Eclectic assortm... 2014-02-05 20:30:30  \n",
       "3  Wow!  Yummy, different,  delicious.   Our favo... 2015-01-04 00:01:03  \n",
       "4  Cute interior and owner (?) gave us tour of up... 2017-01-14 20:54:15  "
      ]
     },
     "execution_count": 29,
     "metadata": {},
     "output_type": "execute_result"
    }
   ],
   "source": [
    "yelp_reviews.head()"
   ]
  },
  {
   "cell_type": "code",
   "execution_count": 30,
   "id": "d67c094b",
   "metadata": {},
   "outputs": [
    {
     "data": {
      "text/plain": [
       "review_id      False\n",
       "user_id        False\n",
       "business_id    False\n",
       "stars          False\n",
       "useful         False\n",
       "funny          False\n",
       "cool           False\n",
       "text           False\n",
       "date           False\n",
       "dtype: bool"
      ]
     },
     "execution_count": 30,
     "metadata": {},
     "output_type": "execute_result"
    }
   ],
   "source": [
    "yelp_reviews.isnull().any()"
   ]
  },
  {
   "cell_type": "code",
   "execution_count": 31,
   "id": "d46c4458",
   "metadata": {},
   "outputs": [],
   "source": [
    "doc = yelp_reviews.text.apply(gensim.utils.simple_preprocess)"
   ]
  },
  {
   "cell_type": "code",
   "execution_count": 32,
   "id": "9c10dd47",
   "metadata": {},
   "outputs": [
    {
     "data": {
      "text/plain": [
       "['if',\n",
       " 'you',\n",
       " 'decide',\n",
       " 'to',\n",
       " 'eat',\n",
       " 'here',\n",
       " 'just',\n",
       " 'be',\n",
       " 'aware',\n",
       " 'it',\n",
       " 'is',\n",
       " 'going',\n",
       " 'to',\n",
       " 'take',\n",
       " 'about',\n",
       " 'hours',\n",
       " 'from',\n",
       " 'beginning',\n",
       " 'to',\n",
       " 'end',\n",
       " 'we',\n",
       " 'have',\n",
       " 'tried',\n",
       " 'it',\n",
       " 'multiple',\n",
       " 'times',\n",
       " 'because',\n",
       " 'want',\n",
       " 'to',\n",
       " 'like',\n",
       " 'it',\n",
       " 'have',\n",
       " 'been',\n",
       " 'to',\n",
       " 'it',\n",
       " 'other',\n",
       " 'locations',\n",
       " 'in',\n",
       " 'nj',\n",
       " 'and',\n",
       " 'never',\n",
       " 'had',\n",
       " 'bad',\n",
       " 'experience',\n",
       " 'the',\n",
       " 'food',\n",
       " 'is',\n",
       " 'good',\n",
       " 'but',\n",
       " 'it',\n",
       " 'takes',\n",
       " 'very',\n",
       " 'long',\n",
       " 'time',\n",
       " 'to',\n",
       " 'come',\n",
       " 'out',\n",
       " 'the',\n",
       " 'waitstaff',\n",
       " 'is',\n",
       " 'very',\n",
       " 'young',\n",
       " 'but',\n",
       " 'usually',\n",
       " 'pleasant',\n",
       " 'we',\n",
       " 'have',\n",
       " 'just',\n",
       " 'had',\n",
       " 'too',\n",
       " 'many',\n",
       " 'experiences',\n",
       " 'where',\n",
       " 'we',\n",
       " 'spent',\n",
       " 'way',\n",
       " 'too',\n",
       " 'long',\n",
       " 'waiting',\n",
       " 'we',\n",
       " 'usually',\n",
       " 'opt',\n",
       " 'for',\n",
       " 'another',\n",
       " 'diner',\n",
       " 'or',\n",
       " 'restaurant',\n",
       " 'on',\n",
       " 'the',\n",
       " 'weekends',\n",
       " 'in',\n",
       " 'order',\n",
       " 'to',\n",
       " 'be',\n",
       " 'done',\n",
       " 'quicker']"
      ]
     },
     "execution_count": 32,
     "metadata": {},
     "output_type": "execute_result"
    }
   ],
   "source": [
    "doc.loc[0]"
   ]
  },
  {
   "cell_type": "markdown",
   "id": "bd1fb9fb",
   "metadata": {},
   "source": [
    "# Training Word2vec"
   ]
  },
  {
   "cell_type": "code",
   "execution_count": 33,
   "id": "7dd48953",
   "metadata": {},
   "outputs": [
    {
     "data": {
      "text/plain": [
       "(72129411, 95117840)"
      ]
     },
     "execution_count": 33,
     "metadata": {},
     "output_type": "execute_result"
    }
   ],
   "source": [
    "model = gensim.models.Word2Vec (doc, size=150, window=10, min_count=2, workers=10)\n",
    "model.train(doc,total_examples=len(doc),epochs=10)"
   ]
  },
  {
   "cell_type": "markdown",
   "id": "4c1c5f03",
   "metadata": {},
   "source": [
    "# Lets see what we can do with the model"
   ]
  },
  {
   "cell_type": "markdown",
   "id": "4f6f85ca",
   "metadata": {},
   "source": [
    "## Finding similar words"
   ]
  },
  {
   "cell_type": "markdown",
   "id": "6dd1e388",
   "metadata": {},
   "source": [
    "**Looking for words similar to the word \"bad\"**"
   ]
  },
  {
   "cell_type": "code",
   "execution_count": 34,
   "id": "09ea85c9",
   "metadata": {},
   "outputs": [
    {
     "data": {
      "text/plain": [
       "[('terrible', 0.8593562245368958),\n",
       " ('horrible', 0.8489099144935608),\n",
       " ('horrendous', 0.7160866260528564),\n",
       " ('lousy', 0.7073488235473633),\n",
       " ('poor', 0.6838691234588623),\n",
       " ('disgusting', 0.6769656538963318),\n",
       " ('abysmal', 0.6426184177398682),\n",
       " ('gross', 0.6106832027435303),\n",
       " ('sucked', 0.6006918549537659),\n",
       " ('subpar', 0.5950561761856079)]"
      ]
     },
     "execution_count": 34,
     "metadata": {},
     "output_type": "execute_result"
    }
   ],
   "source": [
    "model.wv.most_similar(\"awful\")"
   ]
  },
  {
   "cell_type": "markdown",
   "id": "7d37a310",
   "metadata": {},
   "source": [
    "**Looking for words similar to the word \"food\"**"
   ]
  },
  {
   "cell_type": "code",
   "execution_count": 35,
   "id": "06c5c679",
   "metadata": {},
   "outputs": [
    {
     "data": {
      "text/plain": [
       "[('cuisine', 0.5357833504676819),\n",
       " ('meal', 0.5206096768379211),\n",
       " ('meals', 0.47635331749916077),\n",
       " ('sushi', 0.4658252000808716),\n",
       " ('restaurant', 0.4470158815383911),\n",
       " ('fare', 0.4332970976829529),\n",
       " ('salsa', 0.4281695783138275),\n",
       " ('pizza', 0.4265521466732025),\n",
       " ('dishes', 0.40064430236816406),\n",
       " ('grub', 0.39823710918426514)]"
      ]
     },
     "execution_count": 35,
     "metadata": {},
     "output_type": "execute_result"
    }
   ],
   "source": [
    "model.wv.most_similar(\"food\")"
   ]
  },
  {
   "cell_type": "markdown",
   "id": "e4926f38",
   "metadata": {},
   "source": [
    "## Finding similarity between two words"
   ]
  },
  {
   "cell_type": "markdown",
   "id": "f3c3ecf4",
   "metadata": {},
   "source": [
    "**similarity between related words**"
   ]
  },
  {
   "cell_type": "code",
   "execution_count": 36,
   "id": "77a59662",
   "metadata": {},
   "outputs": [
    {
     "data": {
      "text/plain": [
       "0.68801594"
      ]
     },
     "execution_count": 36,
     "metadata": {},
     "output_type": "execute_result"
    }
   ],
   "source": [
    "model.wv.similarity(w1=\"great\", w2=\"good\")"
   ]
  },
  {
   "cell_type": "markdown",
   "id": "50bf5db1",
   "metadata": {},
   "source": [
    "**similarity between unrelated words**"
   ]
  },
  {
   "cell_type": "code",
   "execution_count": 37,
   "id": "604d7f85",
   "metadata": {},
   "outputs": [
    {
     "data": {
      "text/plain": [
       "0.39876875"
      ]
     },
     "execution_count": 37,
     "metadata": {},
     "output_type": "execute_result"
    }
   ],
   "source": [
    "# similarity between two unrelated words\n",
    "model.wv.similarity(w1=\"dirty\",w2=\"clean\")"
   ]
  },
  {
   "cell_type": "markdown",
   "id": "4258a0a2",
   "metadata": {},
   "source": [
    "## Finding analogy"
   ]
  },
  {
   "cell_type": "code",
   "execution_count": 38,
   "id": "e3e9f197",
   "metadata": {},
   "outputs": [],
   "source": [
    "def analogy(x1, x2, y1):\n",
    "    result = model.wv.most_similar(positive=[y1, x2], negative=[x1])\n",
    "    return result[0][0]"
   ]
  },
  {
   "cell_type": "code",
   "execution_count": 39,
   "id": "acc3e72b",
   "metadata": {},
   "outputs": [
    {
     "data": {
      "text/plain": [
       "'indian'"
      ]
     },
     "execution_count": 39,
     "metadata": {},
     "output_type": "execute_result"
    }
   ],
   "source": [
    "analogy('japan', 'japanese', 'india')"
   ]
  },
  {
   "cell_type": "code",
   "execution_count": 40,
   "id": "a0bb2ecd",
   "metadata": {},
   "outputs": [
    {
     "data": {
      "text/plain": [
       "'longest'"
      ]
     },
     "execution_count": 40,
     "metadata": {},
     "output_type": "execute_result"
    }
   ],
   "source": [
    "analogy('tall', 'tallest', 'long')"
   ]
  },
  {
   "cell_type": "markdown",
   "id": "847b96b3",
   "metadata": {},
   "source": [
    "## Finding odd one"
   ]
  },
  {
   "cell_type": "code",
   "execution_count": 45,
   "id": "1d18796f",
   "metadata": {},
   "outputs": [
    {
     "data": {
      "text/plain": [
       "'france'"
      ]
     },
     "execution_count": 45,
     "metadata": {},
     "output_type": "execute_result"
    }
   ],
   "source": [
    "# Which one is the odd one out in this list?\n",
    "model.wv.doesnt_match(\"computer laptop france\".split())"
   ]
  },
  {
   "cell_type": "code",
   "execution_count": 42,
   "id": "36bf4f3c",
   "metadata": {},
   "outputs": [
    {
     "data": {
      "text/plain": [
       "'cereal'"
      ]
     },
     "execution_count": 42,
     "metadata": {},
     "output_type": "execute_result"
    }
   ],
   "source": [
    "model.wv.doesnt_match(\"breakfast cereal dinner lunch\".split())"
   ]
  },
  {
   "cell_type": "code",
   "execution_count": null,
   "id": "0b13f6e8",
   "metadata": {},
   "outputs": [],
   "source": []
  }
 ],
 "metadata": {
  "kernelspec": {
   "display_name": "Python 3 (ipykernel)",
   "language": "python",
   "name": "python3"
  },
  "language_info": {
   "codemirror_mode": {
    "name": "ipython",
    "version": 3
   },
   "file_extension": ".py",
   "mimetype": "text/x-python",
   "name": "python",
   "nbconvert_exporter": "python",
   "pygments_lexer": "ipython3",
   "version": "3.9.7"
  }
 },
 "nbformat": 4,
 "nbformat_minor": 5
}
